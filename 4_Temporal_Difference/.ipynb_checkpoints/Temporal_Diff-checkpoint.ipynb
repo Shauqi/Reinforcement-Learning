{
 "cells": [
  {
   "cell_type": "code",
   "execution_count": 3,
   "id": "11b7d7c6",
   "metadata": {},
   "outputs": [
    {
     "name": "stdout",
     "output_type": "stream",
     "text": [
      "Populating the interactive namespace from numpy and matplotlib\n"
     ]
    }
   ],
   "source": [
    "import numpy as np\n",
    "from tqdm import tqdm\n",
    "import matplotlib.pyplot as plt\n",
    "import seaborn as sns\n",
    "sns.set_style(\"darkgrid\")\n",
    "%pylab inline\n",
    "import random"
   ]
  },
  {
   "cell_type": "code",
   "execution_count": 21,
   "id": "84ea04c4",
   "metadata": {},
   "outputs": [],
   "source": [
    "# parameters\n",
    "gamma = 0.5 # discounting rate\n",
    "rewardSize = -1\n",
    "gridSize = 4\n",
    "alpha = 0.5 # (0,1] // stepSize\n",
    "terminationStates = [[0,0], [gridSize-1, gridSize-1]]\n",
    "actions = [[-1, 0], [1, 0], [0, 1], [0, -1]]\n",
    "numIterations = 1"
   ]
  },
  {
   "cell_type": "code",
   "execution_count": 22,
   "id": "c1a75c6e",
   "metadata": {},
   "outputs": [],
   "source": [
    "# initialization\n",
    "V = np.zeros((gridSize, gridSize))\n",
    "returns = {(i, j):list() for i in range(gridSize) for j in range(gridSize)}\n",
    "deltas = {(i, j):list() for i in range(gridSize) for j in range(gridSize)}\n",
    "states = [[i, j] for i in range(gridSize) for j in range(gridSize)]"
   ]
  },
  {
   "cell_type": "code",
   "execution_count": 23,
   "id": "6c4ca357",
   "metadata": {},
   "outputs": [],
   "source": [
    "# utils\n",
    "def generateInitialState():\n",
    "    initState = random.choice(states[1:-1])\n",
    "    return initState\n",
    "\n",
    "def generateNextAction():\n",
    "    return random.choice(actions)\n",
    "\n",
    "def takeAction(state, action):\n",
    "    if list(state) in terminationStates:\n",
    "        return 0, None\n",
    "    finalState = np.array(state)+np.array(action)\n",
    "    # if robot crosses wall\n",
    "    if -1 in list(finalState) or gridSize in list(finalState):\n",
    "        finalState = state\n",
    "    return rewardSize, list(finalState)"
   ]
  },
  {
   "cell_type": "code",
   "execution_count": 24,
   "id": "b5997a8b",
   "metadata": {},
   "outputs": [
    {
     "name": "stderr",
     "output_type": "stream",
     "text": [
      "100%|██████████| 1/1 [00:00<00:00, 4284.27it/s]"
     ]
    },
    {
     "name": "stdout",
     "output_type": "stream",
     "text": [
      "[3 2]\n",
      "[1 0]\n"
     ]
    },
    {
     "name": "stderr",
     "output_type": "stream",
     "text": [
      "\n"
     ]
    }
   ],
   "source": [
    "for it in tqdm(range(numIterations)):\n",
    "    state = generateInitialState()\n",
    "    while True:\n",
    "        action = generateNextAction()\n",
    "        reward, finalState = takeAction(state, action)\n",
    "        break\n",
    "#         # we reached the end\n",
    "#         if finalState is None:\n",
    "#             break\n",
    "        \n",
    "#         # modify Value function\n",
    "#         before =  V[state[0], state[1]]\n",
    "#         V[state[0], state[1]] += alpha*(reward + gamma*V[finalState[0], finalState[1]] - V[state[0], state[1]])\n",
    "#         deltas[state[0], state[1]].append(float(np.abs(before-V[state[0], state[1]])))\n",
    "        \n",
    "#         state = finalState"
   ]
  },
  {
   "cell_type": "code",
   "execution_count": null,
   "id": "a1f3f50f",
   "metadata": {},
   "outputs": [],
   "source": []
  }
 ],
 "metadata": {
  "kernelspec": {
   "display_name": "Python 3",
   "language": "python",
   "name": "python3"
  },
  "language_info": {
   "codemirror_mode": {
    "name": "ipython",
    "version": 3
   },
   "file_extension": ".py",
   "mimetype": "text/x-python",
   "name": "python",
   "nbconvert_exporter": "python",
   "pygments_lexer": "ipython3",
   "version": "3.7.10"
  }
 },
 "nbformat": 4,
 "nbformat_minor": 5
}
