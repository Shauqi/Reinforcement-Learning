{
 "cells": [
  {
   "cell_type": "code",
   "execution_count": 1,
   "id": "f493b93d",
   "metadata": {},
   "outputs": [],
   "source": [
    "import gym\n",
    "from gym import logger as gymlogger\n",
    "gymlogger.set_level(40) # error only\n",
    "import pybulletgym  # register PyBullet enviroments with open ai gym\n",
    "import numpy as np\n",
    "from gym import wrappers"
   ]
  },
  {
   "cell_type": "code",
   "execution_count": 2,
   "id": "d2f950ec",
   "metadata": {},
   "outputs": [],
   "source": [
    "import torch\n",
    "import torch.nn as nn\n",
    "import torch.autograd as autograd"
   ]
  },
  {
   "cell_type": "code",
   "execution_count": 3,
   "id": "afd612cd",
   "metadata": {},
   "outputs": [
    {
     "name": "stdout",
     "output_type": "stream",
     "text": [
      "Box(-1.0, 1.0, (1,), float32)\n"
     ]
    },
    {
     "data": {
      "text/plain": [
       "array([ 0.        , -0.02228618,  0.        ,  0.        ], dtype=float32)"
      ]
     },
     "execution_count": 3,
     "metadata": {},
     "output_type": "execute_result"
    }
   ],
   "source": [
    "#define the simulated environment we are going to use\n",
    "env = gym.make(\"InvertedPendulumMuJoCoEnv-v0\")\n",
    "#check out the pacman action space!\n",
    "print(env.action_space)\n",
    "\n",
    "# should return a state vector if everything worked (value doesn't matter)\n",
    "env.reset()"
   ]
  },
  {
   "cell_type": "code",
   "execution_count": 13,
   "id": "5f10b7dc",
   "metadata": {},
   "outputs": [
    {
     "name": "stdout",
     "output_type": "stream",
     "text": [
      "WalkerBase::__init__\n",
      "Box(-1.0, 1.0, (6,), float32)\n"
     ]
    },
    {
     "data": {
      "text/plain": [
       "array([ 0.08488122,  0.05886491, -0.03090377, -0.01528817,  0.00391449,\n",
       "       -0.00408916,  0.017515  , -0.05307111,  0.        ,  0.        ,\n",
       "        0.        ,  0.        ,  0.        ,  0.        ,  0.        ,\n",
       "        0.        ,  0.        ], dtype=float32)"
      ]
     },
     "execution_count": 13,
     "metadata": {},
     "output_type": "execute_result"
    }
   ],
   "source": [
    "env = gym.make(\"Walker2DMuJoCoEnv-v0\")\n",
    "print(env.action_space)\n",
    "\n",
    "env.reset()"
   ]
  },
  {
   "cell_type": "code",
   "execution_count": 5,
   "id": "34e28ed4",
   "metadata": {},
   "outputs": [
    {
     "name": "stdout",
     "output_type": "stream",
     "text": [
      "WalkerBase::__init__\n",
      "Box(-1.0, 1.0, (6,), float32)\n"
     ]
    },
    {
     "data": {
      "text/plain": [
       "array([-0.03515276, -0.03119576, -0.04723642,  0.03976043,  0.00682331,\n",
       "        0.02454042, -0.07866516,  0.09989522,  0.        ,  0.        ,\n",
       "        0.        ,  0.        ,  0.        ,  0.        ,  0.        ,\n",
       "        0.        ,  0.        ], dtype=float32)"
      ]
     },
     "execution_count": 5,
     "metadata": {},
     "output_type": "execute_result"
    }
   ],
   "source": [
    "env = gym.make(\"HalfCheetahMuJoCoEnv-v0\")\n",
    "print(env.action_space)\n",
    "\n",
    "env.reset()"
   ]
  },
  {
   "cell_type": "code",
   "execution_count": 10,
   "id": "a2c6ce44",
   "metadata": {},
   "outputs": [
    {
     "name": "stdout",
     "output_type": "stream",
     "text": [
      "WalkerBase::__init__\n"
     ]
    }
   ],
   "source": [
    "env = gym.make(\"HalfCheetahMuJoCoEnv-v0\")\n",
    "env = wrappers.Monitor(env, './HalfCheetahVideo/')\n",
    "env.reset()\n",
    "for _ in range(1000):\n",
    "    env.render()\n",
    "    env.step(env.action_space.sample()) # take a random action\n",
    "env.close()"
   ]
  }
 ],
 "metadata": {
  "kernelspec": {
   "display_name": "Python 3",
   "language": "python",
   "name": "python3"
  },
  "language_info": {
   "codemirror_mode": {
    "name": "ipython",
    "version": 3
   },
   "file_extension": ".py",
   "mimetype": "text/x-python",
   "name": "python",
   "nbconvert_exporter": "python",
   "pygments_lexer": "ipython3",
   "version": "3.7.10"
  }
 },
 "nbformat": 4,
 "nbformat_minor": 5
}
